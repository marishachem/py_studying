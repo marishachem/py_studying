import numpy as np
import pandas as pd

#V1 = np.array(input().split(',')).astype('float')
#V2 = np.array([V1[-2]])
#V3 = np.array(V1[::-1])
#V4 = np.array(V1[::3])
#V5 = np.arange(len(V1))
#---------------------

V1 = np.array([int(x) for x in input().split(',')])
V2 = np.array([int(x) for x in input().split(',')])
V3 = V1 + V2
V4 = np.array(V1[0::2]*V2[::-2])

#--------------------
n_1 = np.array([int(i) for i in input().split(',')])
n_2 = np.array([int(i) for i in input().split(',')])
V = np.array([i/n_2[-2] for i in n_1 if i % n_2[-2]==0] )

#--------------------

from math import sqrt

side_a = np.linalg.norm(A2 - A3)
side_b = np.linalg.norm(A1 - A3)
side_c = np.linalg.norm(A1 - A2)
P = (side_a + side_b + side_c)/2
print(sqrt(P * (P-side_a) * (P-side_b) * (P-side_c)))

#---------------------
M1[-2] = np.sin((M1[-2] * np.pi) / 6)
M1[:,-2] = np.exp(M1[:,-2])
M2 = M1
#---------------------
import numpy as np
s = input().split()
dtype = s[-1]
if all([c.isdigit() for c in dtype]):
    Z = np.zeros(tuple(map(int, s)), np.float64)
else:
    Z = np.zeros(tuple(map(int, s[:-1])), dtype)
       
#---------------------

import numpy as np

NonZerros = np.nonzero(Z)

#----------------------
import numpy as np
n = int(input())
s = input().split()

Z = np.arange(n).reshape(tuple(map(int,s)))
#--------------------
import numpy as np
ar = np.array(Z)
f = ar.reshape(-1)
print([elem for elem in f if elem > 3])
#---------------------------------------------
import numpy as np
Z = np.eye(int(input()))
#----------------------------
import numpy as np
np.random.seed(42)
n,m,l = tuple(map(int,input().split()))
Z = np.random.random_sample((n,m,l))

#----------------

import numpy as np
np.random.seed(42)
n,m = tuple(map(int,input().split()))
Z = np.random.random_sample((n,m))
print(np.amin(Z))
print(np.amax(Z))

#----------------------
import numpy as np
np.random.seed(42)
n,m = tuple(map(int,input().split()))
Z = np.random.random_sample((n,m))
print(np.average(Z))
#---------------------------------------------

import numpy as np
np.random.seed(42)
n,m = tuple(map(int,input().split()))

Z = np.random.random_sample((n,m))
print(min(np.mean(Z, axis=0)))
print(max(np.mean(Z,axis=0)))


#---------------------------------------------
import numpy as np

n,m = tuple(map(int,input().split()))
Z = np.zeros((n,m))
Z[0,] = 1
Z[:,0] = 1
Z[:,-1] = 1
Z[:][-1] = 1

#------------------------------------
import numpy as np
Z = np.pad(Z, (1,1), 'constant', constant_values=(0))
#-------------------
z = np.arange(1,int(input())+1)
Z = np.diag(z)

#-------------------
import numpy as np
x,k = tuple(map(int,input().split()))
Z = np.zeros((x,k))
Z[0::2,1::2] = 1
Z[1::2,0::2] = 1
#------------------
import numpy as np

Z = np.around((Y - np.mean(Y)) / np.std(Y), decimals=2)
#-----------------